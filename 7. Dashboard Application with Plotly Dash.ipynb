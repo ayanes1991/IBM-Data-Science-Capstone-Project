{
 "cells": [
  {
   "cell_type": "code",
   "execution_count": 1,
   "id": "99efa1f2",
   "metadata": {},
   "outputs": [
    {
     "name": "stdout",
     "output_type": "stream",
     "text": [
      "Requirement already satisfied: jupyter_dash in c:\\users\\alexi\\miniconda3\\envs\\myenv\\lib\\site-packages (0.4.2)\n",
      "Requirement already satisfied: dash in c:\\users\\alexi\\miniconda3\\envs\\myenv\\lib\\site-packages (from jupyter_dash) (2.14.2)\n",
      "Requirement already satisfied: requests in c:\\users\\alexi\\miniconda3\\envs\\myenv\\lib\\site-packages (from jupyter_dash) (2.31.0)\n",
      "Requirement already satisfied: flask in c:\\users\\alexi\\miniconda3\\envs\\myenv\\lib\\site-packages (from jupyter_dash) (3.0.0)\n",
      "Requirement already satisfied: retrying in c:\\users\\alexi\\miniconda3\\envs\\myenv\\lib\\site-packages (from jupyter_dash) (1.3.4)\n",
      "Requirement already satisfied: ipython in c:\\users\\alexi\\appdata\\roaming\\python\\python310\\site-packages (from jupyter_dash) (8.14.0)\n",
      "Requirement already satisfied: ipykernel in c:\\users\\alexi\\appdata\\roaming\\python\\python310\\site-packages (from jupyter_dash) (6.25.0)\n",
      "Requirement already satisfied: ansi2html in c:\\users\\alexi\\miniconda3\\envs\\myenv\\lib\\site-packages (from jupyter_dash) (1.9.1)\n",
      "Requirement already satisfied: nest-asyncio in c:\\users\\alexi\\appdata\\roaming\\python\\python310\\site-packages (from jupyter_dash) (1.5.6)\n",
      "Requirement already satisfied: Werkzeug<3.1 in c:\\users\\alexi\\miniconda3\\envs\\myenv\\lib\\site-packages (from dash->jupyter_dash) (3.0.1)\n",
      "Requirement already satisfied: plotly>=5.0.0 in c:\\users\\alexi\\miniconda3\\envs\\myenv\\lib\\site-packages (from dash->jupyter_dash) (5.18.0)\n",
      "Requirement already satisfied: dash-html-components==2.0.0 in c:\\users\\alexi\\miniconda3\\envs\\myenv\\lib\\site-packages (from dash->jupyter_dash) (2.0.0)\n",
      "Requirement already satisfied: dash-core-components==2.0.0 in c:\\users\\alexi\\miniconda3\\envs\\myenv\\lib\\site-packages (from dash->jupyter_dash) (2.0.0)\n",
      "Requirement already satisfied: dash-table==5.0.0 in c:\\users\\alexi\\miniconda3\\envs\\myenv\\lib\\site-packages (from dash->jupyter_dash) (5.0.0)\n",
      "Requirement already satisfied: typing-extensions>=4.1.1 in c:\\users\\alexi\\miniconda3\\envs\\myenv\\lib\\site-packages (from dash->jupyter_dash) (4.7.1)\n",
      "Requirement already satisfied: setuptools in c:\\users\\alexi\\miniconda3\\envs\\myenv\\lib\\site-packages (from dash->jupyter_dash) (68.0.0)\n",
      "Requirement already satisfied: importlib-metadata in c:\\users\\alexi\\miniconda3\\envs\\myenv\\lib\\site-packages (from dash->jupyter_dash) (7.0.1)\n",
      "Requirement already satisfied: Jinja2>=3.1.2 in c:\\users\\alexi\\miniconda3\\envs\\myenv\\lib\\site-packages (from flask->jupyter_dash) (3.1.2)\n",
      "Requirement already satisfied: itsdangerous>=2.1.2 in c:\\users\\alexi\\miniconda3\\envs\\myenv\\lib\\site-packages (from flask->jupyter_dash) (2.1.2)\n",
      "Requirement already satisfied: click>=8.1.3 in c:\\users\\alexi\\miniconda3\\envs\\myenv\\lib\\site-packages (from flask->jupyter_dash) (8.1.7)\n",
      "Requirement already satisfied: blinker>=1.6.2 in c:\\users\\alexi\\miniconda3\\envs\\myenv\\lib\\site-packages (from flask->jupyter_dash) (1.6.2)\n",
      "Requirement already satisfied: comm>=0.1.1 in c:\\users\\alexi\\appdata\\roaming\\python\\python310\\site-packages (from ipykernel->jupyter_dash) (0.1.3)\n",
      "Requirement already satisfied: debugpy>=1.6.5 in c:\\users\\alexi\\appdata\\roaming\\python\\python310\\site-packages (from ipykernel->jupyter_dash) (1.6.7)\n",
      "Requirement already satisfied: jupyter-client>=6.1.12 in c:\\users\\alexi\\appdata\\roaming\\python\\python310\\site-packages (from ipykernel->jupyter_dash) (8.3.0)\n",
      "Requirement already satisfied: jupyter-core!=5.0.*,>=4.12 in c:\\users\\alexi\\appdata\\roaming\\python\\python310\\site-packages (from ipykernel->jupyter_dash) (5.3.1)\n",
      "Requirement already satisfied: matplotlib-inline>=0.1 in c:\\users\\alexi\\appdata\\roaming\\python\\python310\\site-packages (from ipykernel->jupyter_dash) (0.1.6)\n",
      "Requirement already satisfied: packaging in c:\\users\\alexi\\appdata\\roaming\\python\\python310\\site-packages (from ipykernel->jupyter_dash) (23.1)\n",
      "Requirement already satisfied: psutil in c:\\users\\alexi\\appdata\\roaming\\python\\python310\\site-packages (from ipykernel->jupyter_dash) (5.9.5)\n",
      "Requirement already satisfied: pyzmq>=20 in c:\\users\\alexi\\appdata\\roaming\\python\\python310\\site-packages (from ipykernel->jupyter_dash) (25.1.0)\n",
      "Requirement already satisfied: tornado>=6.1 in c:\\users\\alexi\\appdata\\roaming\\python\\python310\\site-packages (from ipykernel->jupyter_dash) (6.3.2)\n",
      "Requirement already satisfied: traitlets>=5.4.0 in c:\\users\\alexi\\appdata\\roaming\\python\\python310\\site-packages (from ipykernel->jupyter_dash) (5.9.0)\n",
      "Requirement already satisfied: backcall in c:\\users\\alexi\\appdata\\roaming\\python\\python310\\site-packages (from ipython->jupyter_dash) (0.2.0)\n",
      "Requirement already satisfied: decorator in c:\\users\\alexi\\appdata\\roaming\\python\\python310\\site-packages (from ipython->jupyter_dash) (5.1.1)\n",
      "Requirement already satisfied: jedi>=0.16 in c:\\users\\alexi\\appdata\\roaming\\python\\python310\\site-packages (from ipython->jupyter_dash) (0.18.2)\n",
      "Requirement already satisfied: pickleshare in c:\\users\\alexi\\appdata\\roaming\\python\\python310\\site-packages (from ipython->jupyter_dash) (0.7.5)\n",
      "Requirement already satisfied: prompt-toolkit!=3.0.37,<3.1.0,>=3.0.30 in c:\\users\\alexi\\appdata\\roaming\\python\\python310\\site-packages (from ipython->jupyter_dash) (3.0.39)\n",
      "Requirement already satisfied: pygments>=2.4.0 in c:\\users\\alexi\\appdata\\roaming\\python\\python310\\site-packages (from ipython->jupyter_dash) (2.15.1)\n",
      "Requirement already satisfied: stack-data in c:\\users\\alexi\\appdata\\roaming\\python\\python310\\site-packages (from ipython->jupyter_dash) (0.6.2)\n",
      "Requirement already satisfied: colorama in c:\\users\\alexi\\appdata\\roaming\\python\\python310\\site-packages (from ipython->jupyter_dash) (0.4.6)\n",
      "Requirement already satisfied: charset-normalizer<4,>=2 in c:\\users\\alexi\\miniconda3\\envs\\myenv\\lib\\site-packages (from requests->jupyter_dash) (2.0.4)\n",
      "Requirement already satisfied: idna<4,>=2.5 in c:\\users\\alexi\\miniconda3\\envs\\myenv\\lib\\site-packages (from requests->jupyter_dash) (3.4)\n",
      "Requirement already satisfied: urllib3<3,>=1.21.1 in c:\\users\\alexi\\miniconda3\\envs\\myenv\\lib\\site-packages (from requests->jupyter_dash) (1.26.16)\n",
      "Requirement already satisfied: certifi>=2017.4.17 in c:\\users\\alexi\\miniconda3\\envs\\myenv\\lib\\site-packages (from requests->jupyter_dash) (2023.11.17)\n",
      "Requirement already satisfied: six>=1.7.0 in c:\\users\\alexi\\miniconda3\\envs\\myenv\\lib\\site-packages (from retrying->jupyter_dash) (1.16.0)\n",
      "Requirement already satisfied: parso<0.9.0,>=0.8.0 in c:\\users\\alexi\\appdata\\roaming\\python\\python310\\site-packages (from jedi>=0.16->ipython->jupyter_dash) (0.8.3)\n",
      "Requirement already satisfied: MarkupSafe>=2.0 in c:\\users\\alexi\\miniconda3\\envs\\myenv\\lib\\site-packages (from Jinja2>=3.1.2->flask->jupyter_dash) (2.1.1)\n",
      "Requirement already satisfied: python-dateutil>=2.8.2 in c:\\users\\alexi\\miniconda3\\envs\\myenv\\lib\\site-packages (from jupyter-client>=6.1.12->ipykernel->jupyter_dash) (2.8.2)\n",
      "Requirement already satisfied: platformdirs>=2.5 in c:\\users\\alexi\\appdata\\roaming\\python\\python310\\site-packages (from jupyter-core!=5.0.*,>=4.12->ipykernel->jupyter_dash) (3.9.1)\n",
      "Requirement already satisfied: pywin32>=300 in c:\\users\\alexi\\appdata\\roaming\\python\\python310\\site-packages (from jupyter-core!=5.0.*,>=4.12->ipykernel->jupyter_dash) (306)\n",
      "Requirement already satisfied: tenacity>=6.2.0 in c:\\users\\alexi\\miniconda3\\envs\\myenv\\lib\\site-packages (from plotly>=5.0.0->dash->jupyter_dash) (8.2.3)\n",
      "Requirement already satisfied: wcwidth in c:\\users\\alexi\\appdata\\roaming\\python\\python310\\site-packages (from prompt-toolkit!=3.0.37,<3.1.0,>=3.0.30->ipython->jupyter_dash) (0.2.6)\n",
      "Requirement already satisfied: zipp>=0.5 in c:\\users\\alexi\\miniconda3\\envs\\myenv\\lib\\site-packages (from importlib-metadata->dash->jupyter_dash) (3.17.0)\n",
      "Requirement already satisfied: executing>=1.2.0 in c:\\users\\alexi\\appdata\\roaming\\python\\python310\\site-packages (from stack-data->ipython->jupyter_dash) (1.2.0)\n",
      "Requirement already satisfied: asttokens>=2.1.0 in c:\\users\\alexi\\appdata\\roaming\\python\\python310\\site-packages (from stack-data->ipython->jupyter_dash) (2.2.1)\n",
      "Requirement already satisfied: pure-eval in c:\\users\\alexi\\appdata\\roaming\\python\\python310\\site-packages (from stack-data->ipython->jupyter_dash) (0.2.2)\n",
      "Requirement already satisfied: plotly in c:\\users\\alexi\\miniconda3\\envs\\myenv\\lib\\site-packages (5.18.0)\n",
      "Requirement already satisfied: tenacity>=6.2.0 in c:\\users\\alexi\\miniconda3\\envs\\myenv\\lib\\site-packages (from plotly) (8.2.3)\n",
      "Requirement already satisfied: packaging in c:\\users\\alexi\\appdata\\roaming\\python\\python310\\site-packages (from plotly) (23.1)\n"
     ]
    }
   ],
   "source": [
    "!pip install jupyter_dash \n",
    "\n",
    "!pip install --upgrade plotly"
   ]
  },
  {
   "cell_type": "code",
   "execution_count": 2,
   "id": "ce7d8fb4",
   "metadata": {},
   "outputs": [
    {
     "name": "stdout",
     "output_type": "stream",
     "text": [
      "Requirement already satisfied: dash in c:\\users\\alexi\\miniconda3\\envs\\myenv\\lib\\site-packages (2.14.2)\n",
      "Requirement already satisfied: Flask<3.1,>=1.0.4 in c:\\users\\alexi\\miniconda3\\envs\\myenv\\lib\\site-packages (from dash) (3.0.0)\n",
      "Requirement already satisfied: Werkzeug<3.1 in c:\\users\\alexi\\miniconda3\\envs\\myenv\\lib\\site-packages (from dash) (3.0.1)\n",
      "Requirement already satisfied: plotly>=5.0.0 in c:\\users\\alexi\\miniconda3\\envs\\myenv\\lib\\site-packages (from dash) (5.18.0)\n",
      "Requirement already satisfied: dash-html-components==2.0.0 in c:\\users\\alexi\\miniconda3\\envs\\myenv\\lib\\site-packages (from dash) (2.0.0)\n",
      "Requirement already satisfied: dash-core-components==2.0.0 in c:\\users\\alexi\\miniconda3\\envs\\myenv\\lib\\site-packages (from dash) (2.0.0)\n",
      "Requirement already satisfied: dash-table==5.0.0 in c:\\users\\alexi\\miniconda3\\envs\\myenv\\lib\\site-packages (from dash) (5.0.0)\n",
      "Requirement already satisfied: typing-extensions>=4.1.1 in c:\\users\\alexi\\miniconda3\\envs\\myenv\\lib\\site-packages (from dash) (4.7.1)\n",
      "Requirement already satisfied: requests in c:\\users\\alexi\\miniconda3\\envs\\myenv\\lib\\site-packages (from dash) (2.31.0)\n",
      "Requirement already satisfied: retrying in c:\\users\\alexi\\miniconda3\\envs\\myenv\\lib\\site-packages (from dash) (1.3.4)\n",
      "Requirement already satisfied: ansi2html in c:\\users\\alexi\\miniconda3\\envs\\myenv\\lib\\site-packages (from dash) (1.9.1)\n",
      "Requirement already satisfied: nest-asyncio in c:\\users\\alexi\\appdata\\roaming\\python\\python310\\site-packages (from dash) (1.5.6)\n",
      "Requirement already satisfied: setuptools in c:\\users\\alexi\\miniconda3\\envs\\myenv\\lib\\site-packages (from dash) (68.0.0)\n",
      "Requirement already satisfied: importlib-metadata in c:\\users\\alexi\\miniconda3\\envs\\myenv\\lib\\site-packages (from dash) (7.0.1)\n",
      "Requirement already satisfied: Jinja2>=3.1.2 in c:\\users\\alexi\\miniconda3\\envs\\myenv\\lib\\site-packages (from Flask<3.1,>=1.0.4->dash) (3.1.2)\n",
      "Requirement already satisfied: itsdangerous>=2.1.2 in c:\\users\\alexi\\miniconda3\\envs\\myenv\\lib\\site-packages (from Flask<3.1,>=1.0.4->dash) (2.1.2)\n",
      "Requirement already satisfied: click>=8.1.3 in c:\\users\\alexi\\miniconda3\\envs\\myenv\\lib\\site-packages (from Flask<3.1,>=1.0.4->dash) (8.1.7)\n",
      "Requirement already satisfied: blinker>=1.6.2 in c:\\users\\alexi\\miniconda3\\envs\\myenv\\lib\\site-packages (from Flask<3.1,>=1.0.4->dash) (1.6.2)\n",
      "Requirement already satisfied: tenacity>=6.2.0 in c:\\users\\alexi\\miniconda3\\envs\\myenv\\lib\\site-packages (from plotly>=5.0.0->dash) (8.2.3)\n",
      "Requirement already satisfied: packaging in c:\\users\\alexi\\appdata\\roaming\\python\\python310\\site-packages (from plotly>=5.0.0->dash) (23.1)\n",
      "Requirement already satisfied: MarkupSafe>=2.1.1 in c:\\users\\alexi\\miniconda3\\envs\\myenv\\lib\\site-packages (from Werkzeug<3.1->dash) (2.1.1)\n",
      "Requirement already satisfied: zipp>=0.5 in c:\\users\\alexi\\miniconda3\\envs\\myenv\\lib\\site-packages (from importlib-metadata->dash) (3.17.0)\n",
      "Requirement already satisfied: charset-normalizer<4,>=2 in c:\\users\\alexi\\miniconda3\\envs\\myenv\\lib\\site-packages (from requests->dash) (2.0.4)\n",
      "Requirement already satisfied: idna<4,>=2.5 in c:\\users\\alexi\\miniconda3\\envs\\myenv\\lib\\site-packages (from requests->dash) (3.4)\n",
      "Requirement already satisfied: urllib3<3,>=1.21.1 in c:\\users\\alexi\\miniconda3\\envs\\myenv\\lib\\site-packages (from requests->dash) (1.26.16)\n",
      "Requirement already satisfied: certifi>=2017.4.17 in c:\\users\\alexi\\miniconda3\\envs\\myenv\\lib\\site-packages (from requests->dash) (2023.11.17)\n",
      "Requirement already satisfied: six>=1.7.0 in c:\\users\\alexi\\miniconda3\\envs\\myenv\\lib\\site-packages (from retrying->dash) (1.16.0)\n",
      "Requirement already satisfied: colorama in c:\\users\\alexi\\appdata\\roaming\\python\\python310\\site-packages (from click>=8.1.3->Flask<3.1,>=1.0.4->dash) (0.4.6)\n"
     ]
    }
   ],
   "source": [
    "!pip install --upgrade dash"
   ]
  },
  {
   "cell_type": "code",
   "execution_count": 3,
   "id": "b1270113",
   "metadata": {},
   "outputs": [
    {
     "name": "stderr",
     "output_type": "stream",
     "text": [
      "C:\\Users\\alexi\\AppData\\Local\\Temp\\ipykernel_23872\\2612866981.py:4: UserWarning: \n",
      "The dash_html_components package is deprecated. Please replace\n",
      "`import dash_html_components as html` with `from dash import html`\n",
      "  import dash_html_components as html\n",
      "C:\\Users\\alexi\\AppData\\Local\\Temp\\ipykernel_23872\\2612866981.py:5: UserWarning: \n",
      "The dash_core_components package is deprecated. Please replace\n",
      "`import dash_core_components as dcc` with `from dash import dcc`\n",
      "  import dash_core_components as dcc\n"
     ]
    }
   ],
   "source": [
    "# Import required libraries\n",
    "import pandas as pd\n",
    "import dash\n",
    "import dash_html_components as html\n",
    "import dash_core_components as dcc\n",
    "from dash.dependencies import Input, Output\n",
    "from jupyter_dash import JupyterDash\n",
    "import plotly.graph_objects as go\n",
    "from dash.dependencies import Input, Output\n",
    "import plotly.express as px"
   ]
  },
  {
   "cell_type": "code",
   "execution_count": 4,
   "id": "c6eff50e",
   "metadata": {},
   "outputs": [
    {
     "name": "stderr",
     "output_type": "stream",
     "text": [
      "c:\\Users\\alexi\\miniconda3\\envs\\myenv\\lib\\site-packages\\dash\\dash.py:538: UserWarning:\n",
      "\n",
      "JupyterDash is deprecated, use Dash instead.\n",
      "See https://dash.plotly.com/dash-in-jupyter for more details.\n",
      "\n"
     ]
    },
    {
     "data": {
      "text/html": [
       "\n",
       "        <iframe\n",
       "            width=\"100%\"\n",
       "            height=\"650\"\n",
       "            src=\"http://127.0.0.1:8090/\"\n",
       "            frameborder=\"0\"\n",
       "            allowfullscreen\n",
       "            \n",
       "        ></iframe>\n",
       "        "
      ],
      "text/plain": [
       "<IPython.lib.display.IFrame at 0x1d278401fc0>"
      ]
     },
     "metadata": {},
     "output_type": "display_data"
    }
   ],
   "source": [
    "# Read the airline data into pandas dataframe\n",
    "spacex_df = pd.read_csv(\"https://cf-courses-data.s3.us.cloud-object-storage.appdomain.cloud/IBM-DS0321EN-SkillsNetwork/datasets/spacex_launch_dash.csv\")\n",
    "max_payload = spacex_df['Payload Mass (kg)'].max()\n",
    "min_payload = spacex_df['Payload Mass (kg)'].min()\n",
    "\n",
    "# Create a dash application\n",
    "app = JupyterDash(__name__)\n",
    "\n",
    "# Create an app layout\n",
    "app.layout = html.Div(children=[html.H1('SpaceX Launch Records Dashboard',\n",
    "                                        style={'textAlign': 'center', 'color': '#503D36',\n",
    "                                               'font-size': 40}),\n",
    "                                # Add a dropdown list to enable Launch Site selection\n",
    "                                # The default select value is for ALL sites\n",
    "                                dcc.Dropdown(id='site-dropdown',\n",
    "                                            options=[\n",
    "                                                {'label': 'All Sites', 'value': 'ALL'},\n",
    "                                                {'label': 'CCAFS LC-40', 'value': 'CCAFS LC-40'},\n",
    "                                                {'label': 'VAFB SLC-4E', 'value': 'VAFB SLC-4E'},\n",
    "                                                {'label': 'KSC LC-39A', 'value': 'KSC LC-39A'},\n",
    "                                                {'label': 'CCAFS SLC-40', 'value': 'CCAFS SLC-40'}\n",
    "                                            ],\n",
    "                                            value='ALL',\n",
    "                                            placeholder=\"place holder here\",\n",
    "                                            searchable=True\n",
    "                                            ),\n",
    "                                html.Br(),\n",
    "\n",
    "                                # Add a pie chart to show the total successful launches count for all sites\n",
    "                                # If a specific launch site was selected, show the Success vs. Failed counts for the site\n",
    "                                html.Div(dcc.Graph(id='success-pie-chart')),\n",
    "                                html.Br(),\n",
    "\n",
    "                                html.P(\"Payload range (Kg):\"),\n",
    "                                # Add a slider to select payload range\n",
    "                                dcc.RangeSlider(id='payload-slider',\n",
    "                                                min=0, max=10000, step=1000,\n",
    "                                                marks={0: '0',\n",
    "                                                       2500: '2500',\n",
    "                                                       5000: '5000',\n",
    "                                                       7500: '7500',\n",
    "                                                       10000: '10000'},\n",
    "                                                value=[min_payload, max_payload]),\n",
    "                                # Add a scatter chart to show the correlation between payload and launch success\n",
    "                                html.Div(dcc.Graph(id='success-payload-scatter-chart')),\n",
    "                                ])\n",
    "\n",
    "# Add a callback function for `site-dropdown` as input, `success-pie-chart` as output\n",
    "@app.callback(Output(component_id='success-pie-chart', component_property='figure'),\n",
    "              Input(component_id='site-dropdown', component_property='value'))\n",
    "def get_pie_chart(entered_site):\n",
    "    if entered_site == 'ALL':\n",
    "        fig = px.pie(spacex_df, values='class', \n",
    "        names='Launch Site', \n",
    "        title='Total Success Launches By Sites')\n",
    "        return fig\n",
    "    else:\n",
    "        # return the outcomes piechart for a selected site\n",
    "        filtered_df = spacex_df.loc[(spacex_df['Launch Site']==entered_site), ['Launch Site', 'class']].groupby(by='class', as_index=False).count()\n",
    "        fig = px.pie(filtered_df, values='Launch Site', \n",
    "        names='class', \n",
    "        title='Total Success Launches for Site ' + str(entered_site))\n",
    "        return fig\n",
    "# Add a callback function for `site-dropdown` and `payload-slider` as inputs, `success-payload-scatter-chart` as output\n",
    "@app.callback(Output(component_id='success-payload-scatter-chart', component_property='figure'),\n",
    "              [Input(component_id='site-dropdown', component_property='value'), \n",
    "               Input(component_id=\"payload-slider\", component_property=\"value\")])\n",
    "def get_scatter_chart(entered_site, payload):\n",
    "    filtered_df = spacex_df[(spacex_df['Payload Mass (kg)'] >= payload[0]) & \n",
    "                            (spacex_df['Payload Mass (kg)']<= payload[1])]\n",
    "    if entered_site == 'ALL':\n",
    "        fig = px.scatter(filtered_df, x='Payload Mass (kg)', y='class', color='Booster Version Category',\n",
    "        title='Correlation between Payload and Success for all Sites')\n",
    "        return fig\n",
    "    else:\n",
    "        # return the outcomes piechart for a selected site\n",
    "        fig = px.scatter(filtered_df[filtered_df['Launch Site']==entered_site], \n",
    "                         x='Payload Mass (kg)', y='class', color='Booster Version Category',\n",
    "                        title='Correlation between Payload and Success for Site ' + str(entered_site)) \n",
    "        return fig\n",
    "# Run the app\n",
    "if __name__ == '__main__':\n",
    "    app.run_server(mode='jupyterlab', port = 8090 ,dev_tools_ui=True, #debug=True,\n",
    "              dev_tools_hot_reload =True, threaded=True)\n",
    "    \n",
    "# run in browser use the url http://localhost:8090"
   ]
  }
 ],
 "metadata": {
  "kernelspec": {
   "display_name": "Python 3 (ipykernel)",
   "language": "python",
   "name": "python3"
  },
  "language_info": {
   "codemirror_mode": {
    "name": "ipython",
    "version": 3
   },
   "file_extension": ".py",
   "mimetype": "text/x-python",
   "name": "python",
   "nbconvert_exporter": "python",
   "pygments_lexer": "ipython3",
   "version": "3.10.13"
  }
 },
 "nbformat": 4,
 "nbformat_minor": 5
}
